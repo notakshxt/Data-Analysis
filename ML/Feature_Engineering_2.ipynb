{
  "cells": [
    {
      "cell_type": "markdown",
      "id": "7cefced7",
      "metadata": {
        "id": "7cefced7"
      },
      "source": [
        "## Imputation"
      ]
    },
    {
      "cell_type": "markdown",
      "id": "c0366846",
      "metadata": {
        "id": "c0366846"
      },
      "source": [
        "## Numerical Data"
      ]
    },
    {
      "cell_type": "code",
      "execution_count": null,
      "id": "de513088",
      "metadata": {
        "id": "de513088",
        "outputId": "0f0bae0e-a0d0-4f47-d2ba-bb33da9317ac"
      },
      "outputs": [
        {
          "name": "stdout",
          "output_type": "stream",
          "text": [
            "Original Data   Name   Age  Score Grade\n",
            "0  AAA  45.0   43.0     A\n",
            "1  BBB  65.0   55.0     B\n",
            "2  CCC   NaN   46.0     C\n",
            "3  DDD  46.0    NaN     A\n",
            "4  EEE  23.0   87.0   NaN\n"
          ]
        }
      ],
      "source": [
        "import pandas as pd\n",
        "import numpy as np\n",
        "from sklearn.impute import SimpleImputer\n",
        "\n",
        "data = {\n",
        "    'Name': ['AAA', 'BBB', 'CCC', 'DDD', 'EEE'],\n",
        "    'Age': [45,65,np.nan,46,23],\n",
        "    'Score': [43,55,46,np.nan,87],\n",
        "    'Grade': ['A', ' B', 'C', 'A', np.nan]\n",
        "}\n",
        "\n",
        "df = pd.DataFrame(data)\n",
        "print(\"Original Data\", df)"
      ]
    },
    {
      "cell_type": "code",
      "execution_count": null,
      "id": "dd19e691-e845-40e2-9414-fab517989e34",
      "metadata": {
        "id": "dd19e691-e845-40e2-9414-fab517989e34",
        "outputId": "e8825ba7-866a-4c58-ce07-de9fd119fc88"
      },
      "outputs": [
        {
          "data": {
            "text/plain": [
              "Name     0\n",
              "Age      1\n",
              "Score    1\n",
              "Grade    1\n",
              "dtype: int64"
            ]
          },
          "execution_count": 3,
          "metadata": {},
          "output_type": "execute_result"
        }
      ],
      "source": [
        "df.isnull().sum()"
      ]
    },
    {
      "cell_type": "code",
      "execution_count": null,
      "id": "ba687442",
      "metadata": {
        "id": "ba687442",
        "outputId": "67626638-433c-4af7-a2e2-63581a6080fd"
      },
      "outputs": [
        {
          "data": {
            "text/html": [
              "<div>\n",
              "<style scoped>\n",
              "    .dataframe tbody tr th:only-of-type {\n",
              "        vertical-align: middle;\n",
              "    }\n",
              "\n",
              "    .dataframe tbody tr th {\n",
              "        vertical-align: top;\n",
              "    }\n",
              "\n",
              "    .dataframe thead th {\n",
              "        text-align: right;\n",
              "    }\n",
              "</style>\n",
              "<table border=\"1\" class=\"dataframe\">\n",
              "  <thead>\n",
              "    <tr style=\"text-align: right;\">\n",
              "      <th></th>\n",
              "      <th>Name</th>\n",
              "      <th>Age</th>\n",
              "      <th>Score</th>\n",
              "      <th>Grade</th>\n",
              "    </tr>\n",
              "  </thead>\n",
              "  <tbody>\n",
              "    <tr>\n",
              "      <th>0</th>\n",
              "      <td>AAA</td>\n",
              "      <td>45.0</td>\n",
              "      <td>43.0</td>\n",
              "      <td>A</td>\n",
              "    </tr>\n",
              "    <tr>\n",
              "      <th>1</th>\n",
              "      <td>BBB</td>\n",
              "      <td>65.0</td>\n",
              "      <td>55.0</td>\n",
              "      <td>B</td>\n",
              "    </tr>\n",
              "    <tr>\n",
              "      <th>2</th>\n",
              "      <td>CCC</td>\n",
              "      <td>NaN</td>\n",
              "      <td>46.0</td>\n",
              "      <td>C</td>\n",
              "    </tr>\n",
              "    <tr>\n",
              "      <th>3</th>\n",
              "      <td>DDD</td>\n",
              "      <td>46.0</td>\n",
              "      <td>NaN</td>\n",
              "      <td>A</td>\n",
              "    </tr>\n",
              "    <tr>\n",
              "      <th>4</th>\n",
              "      <td>EEE</td>\n",
              "      <td>23.0</td>\n",
              "      <td>87.0</td>\n",
              "      <td>A</td>\n",
              "    </tr>\n",
              "  </tbody>\n",
              "</table>\n",
              "</div>"
            ],
            "text/plain": [
              "  Name   Age  Score Grade\n",
              "0  AAA  45.0   43.0     A\n",
              "1  BBB  65.0   55.0     B\n",
              "2  CCC   NaN   46.0     C\n",
              "3  DDD  46.0    NaN     A\n",
              "4  EEE  23.0   87.0     A"
            ]
          },
          "execution_count": 81,
          "metadata": {},
          "output_type": "execute_result"
        }
      ],
      "source": [
        "imputer = SimpleImputer(strategy = 'most_frequent')\n",
        "df['Grade'] = imputer.fit_transform(df[['Grade']])\n",
        "df"
      ]
    },
    {
      "cell_type": "markdown",
      "id": "18ed5b3c",
      "metadata": {
        "id": "18ed5b3c"
      },
      "source": [
        "#### Imputation Using Mean, Median, Mode"
      ]
    },
    {
      "cell_type": "code",
      "execution_count": null,
      "id": "765fbf05",
      "metadata": {
        "id": "765fbf05",
        "outputId": "d6358e18-d0da-4978-afba-842d2d9fdfa6"
      },
      "outputs": [
        {
          "data": {
            "text/html": [
              "<div>\n",
              "<style scoped>\n",
              "    .dataframe tbody tr th:only-of-type {\n",
              "        vertical-align: middle;\n",
              "    }\n",
              "\n",
              "    .dataframe tbody tr th {\n",
              "        vertical-align: top;\n",
              "    }\n",
              "\n",
              "    .dataframe thead th {\n",
              "        text-align: right;\n",
              "    }\n",
              "</style>\n",
              "<table border=\"1\" class=\"dataframe\">\n",
              "  <thead>\n",
              "    <tr style=\"text-align: right;\">\n",
              "      <th></th>\n",
              "      <th>Age</th>\n",
              "      <th>Score</th>\n",
              "    </tr>\n",
              "  </thead>\n",
              "  <tbody>\n",
              "    <tr>\n",
              "      <th>0</th>\n",
              "      <td>45.00</td>\n",
              "      <td>43.00</td>\n",
              "    </tr>\n",
              "    <tr>\n",
              "      <th>1</th>\n",
              "      <td>65.00</td>\n",
              "      <td>55.00</td>\n",
              "    </tr>\n",
              "    <tr>\n",
              "      <th>2</th>\n",
              "      <td>44.75</td>\n",
              "      <td>46.00</td>\n",
              "    </tr>\n",
              "    <tr>\n",
              "      <th>3</th>\n",
              "      <td>46.00</td>\n",
              "      <td>57.75</td>\n",
              "    </tr>\n",
              "    <tr>\n",
              "      <th>4</th>\n",
              "      <td>23.00</td>\n",
              "      <td>87.00</td>\n",
              "    </tr>\n",
              "  </tbody>\n",
              "</table>\n",
              "</div>"
            ],
            "text/plain": [
              "     Age  Score\n",
              "0  45.00  43.00\n",
              "1  65.00  55.00\n",
              "2  44.75  46.00\n",
              "3  46.00  57.75\n",
              "4  23.00  87.00"
            ]
          },
          "execution_count": 17,
          "metadata": {},
          "output_type": "execute_result"
        }
      ],
      "source": [
        "imputer = SimpleImputer(strategy = 'mean')\n",
        "df_imputed = pd.DataFrame(imputer.fit_transform(df[['Age', 'Score']]), columns = ['Age', 'Score'])\n",
        "df_imputed"
      ]
    },
    {
      "cell_type": "code",
      "execution_count": null,
      "id": "8dc14b90",
      "metadata": {
        "id": "8dc14b90",
        "outputId": "3246c638-b9fb-436c-99b4-562c93e5419c"
      },
      "outputs": [
        {
          "name": "stdout",
          "output_type": "stream",
          "text": [
            "Imputed Data   Name    Age  Score Grade\n",
            "0  AAA  45.00  43.00     A\n",
            "1  BBB  65.00  55.00     B\n",
            "2  CCC  44.75  46.00     C\n",
            "3  DDD  46.00  57.75     A\n",
            "4  EEE  23.00  87.00   NaN\n"
          ]
        }
      ],
      "source": [
        "df['Age'] = df_imputed['Age']\n",
        "df['Score'] = df_imputed['Score']\n",
        "print (\"Imputed Data\" , df)"
      ]
    },
    {
      "cell_type": "markdown",
      "id": "bae16f61",
      "metadata": {
        "id": "bae16f61"
      },
      "source": [
        "#### Forward Fill/Backward Fill"
      ]
    },
    {
      "cell_type": "code",
      "execution_count": null,
      "id": "1f082c91",
      "metadata": {
        "id": "1f082c91",
        "outputId": "814fc941-63bd-467b-97be-35713cb95480"
      },
      "outputs": [
        {
          "name": "stdout",
          "output_type": "stream",
          "text": [
            "  Name   Age  Score Grade\n",
            "0  AAA  34.0   50.0     A\n",
            "1  BBB   NaN   60.0     B\n",
            "2  CCC  33.0   40.0   NaN\n",
            "3  DDD  25.0    NaN     C\n",
            "4  EEE  26.0   50.0     A\n"
          ]
        }
      ],
      "source": [
        "import pandas as pd\n",
        "import numpy as np\n",
        "\n",
        "data = {\n",
        "    'Name' : ['AAA', 'BBB', 'CCC', 'DDD', 'EEE'],\n",
        "    'Age' : [34,np.nan,33,25,26],\n",
        "    'Score': [50,60,40,np.nan,50],\n",
        "    'Grade': ['A', 'B', np.nan, 'C', 'A']\n",
        "}\n",
        "\n",
        "df = pd.DataFrame(data)\n",
        "print(df)\n"
      ]
    },
    {
      "cell_type": "code",
      "execution_count": null,
      "id": "d68d03d6",
      "metadata": {
        "id": "d68d03d6",
        "outputId": "61f17a1e-8496-4ce6-d296-386cc7baf8fd"
      },
      "outputs": [
        {
          "name": "stdout",
          "output_type": "stream",
          "text": [
            "Forward Filled\n",
            "  Name   Age  Score Grade\n",
            "0  AAA  34.0   50.0     A\n",
            "1  BBB  34.0   60.0     B\n",
            "2  CCC  33.0   40.0     B\n",
            "3  DDD  25.0   40.0     C\n",
            "4  EEE  26.0   50.0     A\n",
            "Backward Filled\n",
            "  Name   Age  Score Grade\n",
            "0  AAA  34.0   50.0     A\n",
            "1  BBB  33.0   60.0     B\n",
            "2  CCC  33.0   40.0     C\n",
            "3  DDD  25.0   50.0     C\n",
            "4  EEE  26.0   50.0     A\n"
          ]
        }
      ],
      "source": [
        "df_ffill = df.fillna(method = 'ffill')\n",
        "df_bfill = df.fillna(method = 'bfill')\n",
        "print(\"Forward Filled\")\n",
        "print(df_ffill)\n",
        "\n",
        "print('Backward Filled')\n",
        "print(df_bfill)\n"
      ]
    },
    {
      "cell_type": "markdown",
      "id": "d4c50a35",
      "metadata": {
        "id": "d4c50a35"
      },
      "source": [
        "### Interpolation\n",
        "\n",
        "Interpolation in feature engineering refers to the process of estimating or predicting missing values within a dataset based on the values of neighboring data points.\n",
        "\n",
        "#### Linear Interpolation\n",
        "\n",
        "Time\tTemperature\n",
        "\n",
        "0\t       20\n",
        "\n",
        "1\t       NaN\n",
        "\n",
        "2\t       25\n",
        "\n",
        "3\t       NaN\n",
        "\n",
        "4\t       30\n",
        "\n",
        "\n",
        "Temperature at time 1 = Temperature at time 0+Temperature at time 2/ 2                       = 20+25/2 = 22.5\n",
        "\n",
        "Temperature at time 3 = Temperature at time 2+Temperature at time 4/2\n",
        "                      = 25+30/2 = 27.5\n",
        "                      \n",
        "                      \n",
        "#### Nearest Neighbor Interpolation\n",
        "\n",
        "Region\t      Rainfall (inches)\n",
        "\n",
        "Region A\t     2.5\n",
        "\n",
        "Region B\t     NaN\n",
        "\n",
        "Region C\t     NaN\n",
        "\n",
        "Region D\t     3.0\n",
        "\n",
        "Region E\t     NaN\n",
        "\n",
        "\n",
        "We can use nearest neighbor interpolation to estimate the missing population density values. Nearest neighbor interpolation assigns the value of the nearest known neighbor to the missing point.\n",
        "\n",
        "For Region B, the nearest known neighbor is Region A, so we could assign the rainfall for Region B to be 2.5 inches.\n",
        "\n",
        "For Region C, the nearest known neighbors are Regions A and D. We could take the average of their rainfall measurements: (2.5 + 3.0) / 2 = 2.75 inches.\n"
      ]
    },
    {
      "cell_type": "code",
      "execution_count": null,
      "id": "08862e73",
      "metadata": {
        "id": "08862e73",
        "outputId": "ac7641c1-d68e-4a29-a6f1-ed95baf3095f"
      },
      "outputs": [
        {
          "name": "stdout",
          "output_type": "stream",
          "text": [
            "  Name   Age  Score Grade\n",
            "0  AAA  34.0   50.0     A\n",
            "1  BBB   NaN   60.0     B\n",
            "2  CCC  33.0   40.0   NaN\n",
            "3  DDD  25.0    NaN     C\n",
            "4  EEE  26.0   50.0     A\n"
          ]
        }
      ],
      "source": [
        "import pandas as pd\n",
        "import numpy as np\n",
        "\n",
        "data = {\n",
        "    'Name' : ['AAA', 'BBB', 'CCC', 'DDD', 'EEE'],\n",
        "    'Age' : [34,np.nan,33,25,26],\n",
        "    'Score': [50,60,40,np.nan,50],\n",
        "    'Grade': ['A', 'B', np.nan, 'C', 'A']\n",
        "}\n",
        "df = pd.DataFrame(data)\n",
        "print(df)\n"
      ]
    },
    {
      "cell_type": "code",
      "execution_count": null,
      "id": "f47de780",
      "metadata": {
        "id": "f47de780",
        "outputId": "87dd35b5-eb1b-45e4-9720-50d82939860b"
      },
      "outputs": [
        {
          "name": "stdout",
          "output_type": "stream",
          "text": [
            "After Interpolated\n",
            "  Name   Age  Score Grade\n",
            "0  AAA  34.0   50.0     A\n",
            "1  BBB  33.5   60.0     B\n",
            "2  CCC  33.0   40.0   NaN\n",
            "3  DDD  25.0   45.0     C\n",
            "4  EEE  26.0   50.0     A\n"
          ]
        }
      ],
      "source": [
        "df_interpolated = df.interpolate()\n",
        "print(\"After Interpolated\")\n",
        "print(df_interpolated)"
      ]
    },
    {
      "cell_type": "markdown",
      "id": "a1376b9b",
      "metadata": {
        "id": "a1376b9b"
      },
      "source": [
        "#### K-nearest neighbors imputation"
      ]
    },
    {
      "cell_type": "code",
      "execution_count": null,
      "id": "982824de",
      "metadata": {
        "id": "982824de",
        "outputId": "418db3af-2f24-4643-c0ba-580821dbb401"
      },
      "outputs": [
        {
          "name": "stdout",
          "output_type": "stream",
          "text": [
            "  Name   Age  Score Grade\n",
            "0  AAA  34.0   50.0     A\n",
            "1  BBB   NaN   60.0     B\n",
            "2  CCC  33.0   40.0   NaN\n",
            "3  DDD  25.0    NaN     C\n",
            "4  EEE  26.0   50.0     A\n",
            "After KNN Imputation\n",
            "  Name   Age  Score Grade\n",
            "0  AAA  34.0   50.0     A\n",
            "1  BBB  29.5   60.0     B\n",
            "2  CCC  33.0   40.0   NaN\n",
            "3  DDD  25.0   50.0     C\n",
            "4  EEE  26.0   50.0     A\n"
          ]
        }
      ],
      "source": [
        "import pandas as pd\n",
        "import numpy as np\n",
        "from sklearn.impute import KNNImputer\n",
        "\n",
        "data = {\n",
        "    'Name' : ['AAA', 'BBB', 'CCC', 'DDD', 'EEE'],\n",
        "    'Age' : [34,np.nan,33,25,26],\n",
        "    'Score': [50,60,40,np.nan,50],\n",
        "    'Grade': ['A', 'B', np.nan, 'C', 'A']\n",
        "}\n",
        "df = pd.DataFrame(data)\n",
        "print(df)\n",
        "\n",
        "knn_imputer_age = KNNImputer(n_neighbors = 2)\n",
        "df['Age'] = knn_imputer_age.fit_transform(df[['Age']])\n",
        "\n",
        "knn_imputer_age = KNNImputer(n_neighbors = 2)\n",
        "df['Score'] = knn_imputer_age.fit_transform(df[['Score']])\n",
        "\n",
        "print(\"After KNN Imputation\")\n",
        "print(df)\n"
      ]
    },
    {
      "cell_type": "markdown",
      "id": "e3bba314",
      "metadata": {
        "id": "e3bba314"
      },
      "source": [
        "## Categorical Data"
      ]
    },
    {
      "cell_type": "markdown",
      "id": "10a50955",
      "metadata": {
        "id": "10a50955"
      },
      "source": [
        "### One-hot encoding"
      ]
    },
    {
      "cell_type": "code",
      "execution_count": null,
      "id": "d1e5cacd",
      "metadata": {
        "id": "d1e5cacd",
        "outputId": "0ccfa47b-b071-453f-f8bd-394bbd9199e4"
      },
      "outputs": [
        {
          "name": "stdout",
          "output_type": "stream",
          "text": [
            "    Fruit   Color\n",
            "0   Apple     Red\n",
            "1  Banana  Yellow\n",
            "2  Orange  Orange\n",
            "3   Apple   Green\n",
            "4  Banana  Yellow\n",
            "[[1. 0. 0. 0. 0. 1. 0.]\n",
            " [0. 1. 0. 0. 0. 0. 1.]\n",
            " [0. 0. 1. 0. 1. 0. 0.]\n",
            " [1. 0. 0. 1. 0. 0. 0.]\n",
            " [0. 1. 0. 0. 0. 0. 1.]]\n",
            "\n",
            "\n",
            " Featture Names : \n",
            " ['Fruit_Apple' 'Fruit_Banana' 'Fruit_Orange' 'Color_Green' 'Color_Orange'\n",
            " 'Color_Red' 'Color_Yellow']\n",
            "   Fruit_Apple  Fruit_Banana  Fruit_Orange  Color_Green  Color_Orange  \\\n",
            "0          1.0           0.0           0.0          0.0           0.0   \n",
            "1          0.0           1.0           0.0          0.0           0.0   \n",
            "2          0.0           0.0           1.0          0.0           1.0   \n",
            "3          1.0           0.0           0.0          1.0           0.0   \n",
            "4          0.0           1.0           0.0          0.0           0.0   \n",
            "\n",
            "   Color_Red  Color_Yellow  \n",
            "0        1.0           0.0  \n",
            "1        0.0           1.0  \n",
            "2        0.0           0.0  \n",
            "3        0.0           0.0  \n",
            "4        0.0           1.0  \n",
            "   Fruit_Apple  Fruit_Banana  Fruit_Orange  Color_Green  Color_Orange  \\\n",
            "0          1.0           0.0           0.0          0.0           0.0   \n",
            "1          0.0           1.0           0.0          0.0           0.0   \n",
            "2          0.0           0.0           1.0          0.0           1.0   \n",
            "3          1.0           0.0           0.0          1.0           0.0   \n",
            "4          0.0           1.0           0.0          0.0           0.0   \n",
            "\n",
            "   Color_Red  Color_Yellow  \n",
            "0        1.0           0.0  \n",
            "1        0.0           1.0  \n",
            "2        0.0           0.0  \n",
            "3        0.0           0.0  \n",
            "4        0.0           1.0  \n"
          ]
        }
      ],
      "source": [
        "import pandas as pd\n",
        "import numpy as np\n",
        "from sklearn.preprocessing import OneHotEncoder, LabelEncoder\n",
        "data = {\n",
        "\n",
        "    'Fruit' : ['Apple', 'Banana', 'Orange', 'Apple', 'Banana'],\n",
        "    'Color' : ['Red', 'Yellow', 'Orange', 'Green', 'Yellow']\n",
        "}\n",
        "df = pd.DataFrame(data)\n",
        "print(df)\n",
        "\n",
        "\n",
        "#one_hot_encoder = OneHotEncoder(sparse = False, drop = 'first')\n",
        "one_hot_encoder = OneHotEncoder(sparse = False)\n",
        "\n",
        "one_hot_encoded = one_hot_encoder.fit_transform(df[['Fruit', 'Color']])\n",
        "print(one_hot_encoded)\n",
        "\n",
        "\n",
        "feature_names = one_hot_encoder.get_feature_names_out(['Fruit', 'Color'])\n",
        "print(\"\\n\\n Featture Names : \\n\", feature_names)\n",
        "df_one_hot = pd.DataFrame(one_hot_encoded, columns = feature_names)\n",
        "print(df_one_hot)\n",
        "\n",
        "df_encoded = pd.concat([df.drop(['Fruit','Color'], axis=1),df_one_hot],axis=1)\n",
        "\n",
        "print(df_encoded)\n",
        "\n"
      ]
    },
    {
      "cell_type": "markdown",
      "id": "e768afec",
      "metadata": {
        "id": "e768afec"
      },
      "source": [
        "### Label encoding"
      ]
    },
    {
      "cell_type": "code",
      "execution_count": null,
      "id": "bb8815a6",
      "metadata": {
        "id": "bb8815a6",
        "outputId": "0001e7ab-28d2-49b0-e1c1-4bc32aecc481"
      },
      "outputs": [
        {
          "name": "stdout",
          "output_type": "stream",
          "text": [
            "    Fruit   Color\n",
            "0   Apple     Red\n",
            "1  Banana  Yellow\n",
            "2  Orange  Orange\n",
            "3   Apple   Green\n",
            "4  Banana  Yellow\n",
            "Label Encoding\n",
            "   Fruit_Banana  Fruit_Orange  Color_Orange  Color_Red  Color_Yellow\n",
            "0           0.0           0.0           0.0        1.0           0.0\n",
            "1           1.0           0.0           0.0        0.0           1.0\n",
            "2           0.0           1.0           1.0        0.0           0.0\n",
            "3           0.0           0.0           0.0        0.0           0.0\n",
            "4           1.0           0.0           0.0        0.0           1.0\n"
          ]
        }
      ],
      "source": [
        "import pandas as pd\n",
        "from sklearn.preprocessing import OneHotEncoder, LabelEncoder\n",
        "\n",
        "data = {\n",
        "\n",
        "    'Fruit' : ['Apple', 'Banana', 'Orange', 'Apple', 'Banana'],\n",
        "    'Color' : ['Red', 'Yellow', 'Orange', 'Green', 'Yellow']\n",
        "}\n",
        "df = pd.DataFrame(data)\n",
        "print(df)\n",
        "\n",
        "label_encoder = LabelEncoder()\n",
        "df_label_encoded = df.copy()\n",
        "df_label_encoded['Fruit'] = label_encoder.fit_transform(df['Fruit'])\n",
        "df_label_encoded['Color'] = label_encoder.fit_transform(df['Color'])\n",
        "\n",
        "print(\"Label Encoding\")\n",
        "print(df_encoded)"
      ]
    },
    {
      "cell_type": "markdown",
      "id": "c9141258",
      "metadata": {
        "id": "c9141258"
      },
      "source": [
        "## Feature scaling"
      ]
    },
    {
      "cell_type": "markdown",
      "id": "0579005c",
      "metadata": {
        "id": "0579005c"
      },
      "source": [
        "#### Normalization"
      ]
    },
    {
      "cell_type": "code",
      "execution_count": null,
      "id": "85aec317",
      "metadata": {
        "id": "85aec317",
        "outputId": "e2261194-1318-4487-a719-30ea9c77e4c9"
      },
      "outputs": [
        {
          "name": "stdout",
          "output_type": "stream",
          "text": [
            "   Age  Score\n",
            "0   34     50\n",
            "1   43     60\n",
            "2   33     40\n",
            "3   25     45\n",
            "4   26     50\n",
            "Min Max Scaling. (Normalization)\n",
            "        Age  Score\n",
            "0  0.500000   0.50\n",
            "1  1.000000   1.00\n",
            "2  0.444444   0.00\n",
            "3  0.000000   0.25\n",
            "4  0.055556   0.50\n"
          ]
        }
      ],
      "source": [
        "import pandas as pd\n",
        "from sklearn.preprocessing import MinMaxScaler\n",
        "\n",
        "data = {\n",
        "\n",
        "    'Age' : [34,43,33,25,26],\n",
        "    'Score': [50,60,40,45,50]\n",
        "}\n",
        "df = pd.DataFrame(data)\n",
        "print(df)\n",
        "\n",
        "min_max_scaler = MinMaxScaler()\n",
        "df_normalized = min_max_scaler.fit_transform(df)\n",
        "df_normalized = pd.DataFrame(df_normalized, columns = df.columns)\n",
        "\n",
        "print(\"Min Max Scaling. (Normalization)\")\n",
        "print(df_normalized)"
      ]
    },
    {
      "cell_type": "markdown",
      "id": "79ac97eb",
      "metadata": {
        "id": "79ac97eb"
      },
      "source": [
        "#### Standardization"
      ]
    },
    {
      "cell_type": "code",
      "execution_count": null,
      "id": "6e30bf32",
      "metadata": {
        "id": "6e30bf32",
        "outputId": "99960068-5336-4690-bff8-f23d09b3739f"
      },
      "outputs": [
        {
          "name": "stdout",
          "output_type": "stream",
          "text": [
            "   Age  Score\n",
            "0   34     50\n",
            "1   43     60\n",
            "2   33     40\n",
            "3   25     45\n",
            "4   26     50\n",
            "After Standardization \n",
            "        Age     Score\n",
            "0  0.277218  0.150756\n",
            "1  1.663311  1.658312\n",
            "2  0.123208 -1.356801\n",
            "3 -1.108874 -0.603023\n",
            "4 -0.954864  0.150756\n"
          ]
        }
      ],
      "source": [
        "import pandas as pd\n",
        "from sklearn.preprocessing import StandardScaler\n",
        "\n",
        "data = {\n",
        "\n",
        "    'Age' : [34,43,33,25,26],\n",
        "    'Score': [50,60,40,45,50]\n",
        "}\n",
        "df = pd.DataFrame(data)\n",
        "print(df)\n",
        "\n",
        "standard_scaler = StandardScaler()\n",
        "df_standardized = standard_scaler.fit_transform(df)\n",
        "df_standardized = pd.DataFrame(df_standardized, columns = df.columns)\n",
        "\n",
        "print(\"After Standardization \")\n",
        "print(df_standardized)"
      ]
    },
    {
      "cell_type": "markdown",
      "id": "c04f6e15",
      "metadata": {
        "id": "c04f6e15"
      },
      "source": [
        "## Feature selection\n",
        "\n",
        "Feature Selection is a feature engineering technique that selects only dominating or relevant features in a dataset. It uses algorithms to determine which features have the most impact or relation to the target variable. When a model is trained only with the relevant features selected, it can improve the machine learning model’s accuracy.\n",
        "Feature Selction Techniques:\n",
        "- Univariate Feature selection\n",
        "- L1 Regularization (Lasso)"
      ]
    },
    {
      "cell_type": "markdown",
      "id": "44a88c5d",
      "metadata": {
        "id": "44a88c5d"
      },
      "source": [
        "### Univariate feature selection:\n",
        "Univariate feature selection removes all features whose variance doesn’t meet a particular threshold value.\n",
        "\n",
        "It gives top k features based on their relevance with the target variable using the f_regression score function."
      ]
    },
    {
      "cell_type": "code",
      "execution_count": null,
      "id": "72e3d73d",
      "metadata": {
        "id": "72e3d73d"
      },
      "outputs": [],
      "source": [
        "import pandas as pd\n",
        "import numpy as np\n",
        "from sklearn.datasets import make_regression\n",
        "from sklearn.feature_selection import SelectKBest, f_regression\n",
        "from sklearn.linear_model import Lasso"
      ]
    },
    {
      "cell_type": "code",
      "execution_count": null,
      "id": "b2e644cd",
      "metadata": {
        "id": "b2e644cd",
        "outputId": "fbdd300b-2dae-45c4-e8f4-b3efa18f17a1"
      },
      "outputs": [
        {
          "data": {
            "text/html": [
              "<div>\n",
              "<style scoped>\n",
              "    .dataframe tbody tr th:only-of-type {\n",
              "        vertical-align: middle;\n",
              "    }\n",
              "\n",
              "    .dataframe tbody tr th {\n",
              "        vertical-align: top;\n",
              "    }\n",
              "\n",
              "    .dataframe thead th {\n",
              "        text-align: right;\n",
              "    }\n",
              "</style>\n",
              "<table border=\"1\" class=\"dataframe\">\n",
              "  <thead>\n",
              "    <tr style=\"text-align: right;\">\n",
              "      <th></th>\n",
              "      <th>Feature_1</th>\n",
              "      <th>Feature_2</th>\n",
              "      <th>Feature_3</th>\n",
              "      <th>Feature_4</th>\n",
              "      <th>Feature_5</th>\n",
              "      <th>Feature_6</th>\n",
              "      <th>Feature_7</th>\n",
              "      <th>Feature_8</th>\n",
              "      <th>Feature_9</th>\n",
              "      <th>Feature_10</th>\n",
              "      <th>Target</th>\n",
              "    </tr>\n",
              "  </thead>\n",
              "  <tbody>\n",
              "    <tr>\n",
              "      <th>0</th>\n",
              "      <td>0.150394</td>\n",
              "      <td>0.950424</td>\n",
              "      <td>-0.759133</td>\n",
              "      <td>-2.123896</td>\n",
              "      <td>-0.576904</td>\n",
              "      <td>-0.599393</td>\n",
              "      <td>-0.525755</td>\n",
              "      <td>-0.839722</td>\n",
              "      <td>0.341756</td>\n",
              "      <td>1.876171</td>\n",
              "      <td>-60.486955</td>\n",
              "    </tr>\n",
              "    <tr>\n",
              "      <th>1</th>\n",
              "      <td>1.088951</td>\n",
              "      <td>-0.715304</td>\n",
              "      <td>-0.471932</td>\n",
              "      <td>0.686260</td>\n",
              "      <td>0.679598</td>\n",
              "      <td>-1.867265</td>\n",
              "      <td>-1.612716</td>\n",
              "      <td>2.314659</td>\n",
              "      <td>0.064280</td>\n",
              "      <td>-1.077745</td>\n",
              "      <td>-0.091994</td>\n",
              "    </tr>\n",
              "    <tr>\n",
              "      <th>2</th>\n",
              "      <td>-0.714351</td>\n",
              "      <td>-1.191303</td>\n",
              "      <td>0.293072</td>\n",
              "      <td>-0.680025</td>\n",
              "      <td>0.656554</td>\n",
              "      <td>0.346448</td>\n",
              "      <td>0.232254</td>\n",
              "      <td>0.250493</td>\n",
              "      <td>1.865775</td>\n",
              "      <td>0.473833</td>\n",
              "      <td>-76.947132</td>\n",
              "    </tr>\n",
              "    <tr>\n",
              "      <th>3</th>\n",
              "      <td>0.404051</td>\n",
              "      <td>0.257550</td>\n",
              "      <td>-0.161286</td>\n",
              "      <td>-0.342715</td>\n",
              "      <td>-0.074446</td>\n",
              "      <td>-0.420645</td>\n",
              "      <td>-0.802277</td>\n",
              "      <td>-1.415371</td>\n",
              "      <td>1.886186</td>\n",
              "      <td>0.174578</td>\n",
              "      <td>-38.245170</td>\n",
              "    </tr>\n",
              "    <tr>\n",
              "      <th>4</th>\n",
              "      <td>0.606010</td>\n",
              "      <td>-2.081929</td>\n",
              "      <td>-1.556629</td>\n",
              "      <td>-0.704344</td>\n",
              "      <td>1.696456</td>\n",
              "      <td>1.049009</td>\n",
              "      <td>-1.408461</td>\n",
              "      <td>-0.522723</td>\n",
              "      <td>-1.280429</td>\n",
              "      <td>1.754794</td>\n",
              "      <td>-1.831243</td>\n",
              "    </tr>\n",
              "  </tbody>\n",
              "</table>\n",
              "</div>"
            ],
            "text/plain": [
              "   Feature_1  Feature_2  Feature_3  Feature_4  Feature_5  Feature_6  \\\n",
              "0   0.150394   0.950424  -0.759133  -2.123896  -0.576904  -0.599393   \n",
              "1   1.088951  -0.715304  -0.471932   0.686260   0.679598  -1.867265   \n",
              "2  -0.714351  -1.191303   0.293072  -0.680025   0.656554   0.346448   \n",
              "3   0.404051   0.257550  -0.161286  -0.342715  -0.074446  -0.420645   \n",
              "4   0.606010  -2.081929  -1.556629  -0.704344   1.696456   1.049009   \n",
              "\n",
              "   Feature_7  Feature_8  Feature_9  Feature_10     Target  \n",
              "0  -0.525755  -0.839722   0.341756    1.876171 -60.486955  \n",
              "1  -1.612716   2.314659   0.064280   -1.077745  -0.091994  \n",
              "2   0.232254   0.250493   1.865775    0.473833 -76.947132  \n",
              "3  -0.802277  -1.415371   1.886186    0.174578 -38.245170  \n",
              "4  -1.408461  -0.522723  -1.280429    1.754794  -1.831243  "
            ]
          },
          "execution_count": 46,
          "metadata": {},
          "output_type": "execute_result"
        }
      ],
      "source": [
        "# Generating sample dataset with synthetic features and target\n",
        "X, y = make_regression (n_samples = 100, n_features = 10, random_state = 42)\n",
        "\n",
        "df = pd.DataFrame(X, columns = [f'Feature_{i}'  for i in range(1,11)])\n",
        "df['Target'] = y\n",
        "\n",
        "df.head()"
      ]
    },
    {
      "cell_type": "code",
      "execution_count": null,
      "id": "0cf1d113",
      "metadata": {
        "id": "0cf1d113",
        "outputId": "027ca670-d49d-49e9-ffc1-b14e6821502c"
      },
      "outputs": [
        {
          "name": "stdout",
          "output_type": "stream",
          "text": [
            "[[ 0.15039379  0.95042384 -2.12389572 -0.57690366 -0.52575502]\n",
            " [ 1.0889506  -0.71530371  0.68626019  0.67959775 -1.61271587]\n",
            " [-0.71435142 -1.1913035  -0.68002472  0.65655361  0.2322537 ]\n",
            " [ 0.40405086  0.25755039 -0.34271452 -0.07444592 -0.80227727]\n",
            " [ 0.60600995 -2.08192941 -0.70434369  1.69645637 -1.4084613 ]\n",
            " [ 0.41278093 -0.24538812  1.15859558 -0.75373616 -0.82068232]\n",
            " [ 0.75539123  0.09933231 -0.23894805  0.75138712 -0.90756366]\n",
            " [-0.50175704 -0.5297602   1.47789404  0.51326743 -0.51827022]\n",
            " [-0.71984421  0.34361829 -0.11564828 -1.76304016 -0.3011037 ]\n",
            " [-0.46917565 -0.11453985 -1.32023321  1.23781631  1.83145877]\n",
            " [-0.51121568  0.05572491  1.8820245   1.09419152  1.34542005]\n",
            " [ 1.11729583  0.56976728 -1.25153942  0.44770856  1.4437646 ]\n",
            " [-0.79287283 -0.55364931 -0.98572605 -1.19787789  0.50404652]\n",
            " [-0.76734756  2.18980293  1.45114361 -0.80829829  0.95927083]\n",
            " [ 1.45338448 -0.42018682  2.29889812 -0.28178461 -0.36283856]\n",
            " [-0.74848654  1.17929718 -1.53411417  0.06751848  1.27767682]\n",
            " [-1.24778318 -0.44004449 -3.24126734  0.13074058 -1.02438764]\n",
            " [-1.57022472 -0.07443343  0.63240774  0.6206721   0.97255445]\n",
            " [-0.23413696 -0.46947439  0.64768854  0.54256004  1.52302986]\n",
            " [ 1.36863156  1.05842449 -0.24896415 -1.75873949  0.97157095]\n",
            " [-0.2209696  -0.53050115 -0.69972551 -0.57581824  0.21397991]\n",
            " [-0.18398334 -0.53975968 -1.34818542 -0.77830473  0.74326409]\n",
            " [ 0.10643023 -2.65096981 -0.03275327  1.09150685 -0.54342477]\n",
            " [ 1.08078073 -0.07016571  0.38019785 -1.66096093  0.61058575]\n",
            " [-1.5231869   1.56552403  0.13296967 -0.06575026 -0.70012081]\n",
            " [-0.28110029 -0.57117899 -0.24717738  0.57258278 -0.68198425]\n",
            " [ 0.05921843  0.19808476 -0.26888869 -0.14436041 -1.10652591]\n",
            " [-0.38770156  0.65854427  1.5475052   2.01020454  1.79587767]\n",
            " [-0.24903604  3.07888081 -1.51519106  1.11957491  1.36687427]\n",
            " [ 2.63238206 -0.85835778 -0.97587325  0.70030988  1.0536418 ]\n",
            " [ 1.84670733  0.59065483 -0.48943944  1.10870358  1.04416088]\n",
            " [-0.40807537 -1.87079192  0.8711247  -0.35151348 -0.32602353]\n",
            " [ 0.64870989  1.20650897  1.06667469 -0.81693567  1.16929559]\n",
            " [ 1.10330188 -0.36361221 -0.54491909 -0.05694562  0.39913611]\n",
            " [-0.56228753 -0.90802408  0.24196227 -1.4123037  -1.91328024]\n",
            " [-0.14705738  0.41293145  0.07580456 -0.56372455 -0.67716171]\n",
            " [-1.00252936  0.32271856  0.85765962 -0.82723094 -0.15993853]\n",
            " [-1.65485667 -1.2899609  -0.1580079  -1.29507877 -0.42688107]\n",
            " [ 0.47259748  1.66547444  0.40825276  1.01437007 -1.7025836 ]\n",
            " [-0.77781669  0.93567839 -0.34268759  1.27155509 -0.37144087]\n",
            " [ 1.87679581 -1.77872025  0.86960592  1.49604431  1.35563786]\n",
            " [ 0.04643655  0.64548418  0.02874482  2.16325472  1.27845186]\n",
            " [-0.27272357 -0.23093453 -0.25959135  0.69620636 -1.50314295]\n",
            " [ 0.38531738  0.05820872  0.21409374 -1.1429703  -1.24573878]\n",
            " [ 0.63391902 -0.66178646  0.04557184  0.85243333 -0.65160035]\n",
            " [ 0.11732738  0.54709738  0.74729361 -0.20219265  0.61037027]\n",
            " [-0.93782504  0.51504769  1.08305124  3.85273149  1.05380205]\n",
            " [-0.6929096   0.81286212 -0.58936476  0.62962884  0.8496021 ]\n",
            " [-1.42225371  1.68714164 -1.60644632  0.88163976  0.20346364]\n",
            " [-1.15836469 -0.22096417 -0.96697614  0.02688584 -0.04771136]\n",
            " [-1.07008477 -0.04558602  0.65020118  0.24333945 -0.09917586]\n",
            " [-1.21418861  0.62411982 -0.81822068  0.62834551  2.09238728]\n",
            " [ 0.78182287  0.52194157 -1.60748323  0.29698467  0.18463386]\n",
            " [ 0.04739867  1.00629281 -0.0660798  -0.57689187 -1.2110162 ]\n",
            " [-1.9520878   0.28099187  1.58601682 -0.62269952 -1.2378155 ]\n",
            " [ 0.23204994 -0.71844422  0.24496657 -0.21344715 -0.50694318]\n",
            " [ 0.71299843  0.71095997 -0.52452027  0.44426331  0.48937456]\n",
            " [-1.46351495  0.00511346 -0.70205309 -0.23458713 -0.32766215]\n",
            " [ 0.46210347  0.06980208  1.16316375 -0.3853136   0.01023306]\n",
            " [-0.57074629 -0.55222304 -0.63738713  0.63293182  1.18901653]\n",
            " [ 0.24822059  0.83033582  0.63278187 -0.85608383  2.27069286]\n",
            " [ 0.49245126 -0.63773998 -1.12272202 -0.53099696  0.38240975]\n",
            " [-0.41187697  0.39445214  1.16778206 -0.42098448  0.25442084]\n",
            " [-0.30954644  0.92402702 -1.08106333 -0.18490214  0.61593561]\n",
            " [-0.40122047  0.0976761  -0.10876015 -0.77300978  0.40171172]\n",
            " [ 1.79455786 -0.0164229  -1.37931923  1.18839327 -0.73093004]\n",
            " [ 0.82718325 -0.26465683 -0.07710171  2.72016917  0.34115197]\n",
            " [ 0.07409478 -1.70338244 -0.26940683 -0.0555477   0.71754226]\n",
            " [-0.48712538  0.04852163 -1.39856757 -0.83095012  0.56296924]\n",
            " [ 0.02100384  0.32416635  0.82541635 -0.13014305  0.81350964]\n",
            " [-1.48556037  0.08228399  1.44697788  1.06548038  0.19655478]\n",
            " [-1.8048821   0.2597225  -0.66262376 -0.90431663  0.57059867]\n",
            " [ 0.8219025   0.09176078 -0.03582604 -1.98756891  1.56464366]\n",
            " [-0.70317643 -0.62696706  2.56008454  1.81244856 -0.0960599 ]\n",
            " [-0.79689526  0.37114587  0.52980418 -0.60398519  1.44156862]\n",
            " [ 0.71400049 -0.84679372 -1.0708925  -1.51484722  0.48247242]\n",
            " [ 0.66967255 -0.51386692 -2.0674421  -1.05921352 -0.08912004]\n",
            " [-0.33450124  1.76545424  0.50498728  0.40498171  0.86575519]\n",
            " [ 2.19045563  0.09965137  1.40279431 -0.50347565 -1.40185106]\n",
            " [-0.30917212  1.25575613  0.09612078 -0.8946073  -0.46227529]\n",
            " [ 0.30154734  1.14282281  0.06023021  0.75193303  2.46324211]\n",
            " [-0.50205422  0.24380071 -1.4480139  -0.56407863 -2.19880596]\n",
            " [ 1.54993441  0.81351722 -1.06230371 -1.23086432  0.47359243]\n",
            " [-0.5100164  -0.44429326  0.47897983  0.37730049  0.33366211]\n",
            " [ 0.62284993  0.12029563  0.0052437   0.51443883  0.04698059]\n",
            " [ 0.11092259 -0.60063869  0.0675282  -0.29169375 -1.42474819]\n",
            " [-0.48423407  0.44381943  2.1221562   0.77463405  1.03246526]\n",
            " [ 0.75896922 -0.48536355  0.95400176  0.08187414  0.65139125]\n",
            " [-2.21113531 -1.47858625  0.32692737  1.14375404 -0.21910053]\n",
            " [ 0.93128012  0.33126343 -0.676922    0.97554513  0.61167629]\n",
            " [-1.22084365 -1.32818605 -0.01349722  0.19686124 -1.05771093]\n",
            " [ 1.05315285  0.02831838  0.27157884  0.02975614 -1.27674858]\n",
            " [ 1.44011722 -0.04015795  0.19652117 -1.4307751   0.70900376]\n",
            " [-0.72574381 -0.6115178  -0.62481858 -1.4066611   0.02609105]\n",
            " [ 1.35624003  0.36163603 -1.10633497 -0.64511975 -1.19620662]\n",
            " [-1.88954073 -1.58390282  0.84064355  0.76041466 -0.65262398]\n",
            " [ 0.23421473  0.9843224  -1.00414077 -0.21398884 -0.76779757]\n",
            " [ 0.12922118  0.48100923  0.27996863  0.22388402 -1.12548905]\n",
            " [ 0.27902153 -0.44643361  0.24938368  0.19408999  1.57745328]\n",
            " [ 0.53891004 -0.87561825  0.07736831 -1.38279973 -0.8612842 ]]\n",
            "\n",
            "\n",
            " Index(['Feature_1', 'Feature_2', 'Feature_3', 'Feature_4', 'Feature_5',\n",
            "       'Feature_6', 'Feature_7', 'Feature_8', 'Feature_9', 'Feature_10'],\n",
            "      dtype='object')\n",
            "\n",
            "\n",
            " [ True  True False  True  True False  True False False False]\n",
            "\n",
            "\n",
            "Selected Features \n",
            " Index(['Feature_1', 'Feature_2', 'Feature_4', 'Feature_5', 'Feature_7'], dtype='object')\n"
          ]
        }
      ],
      "source": [
        "k_best = 5\n",
        "selector = SelectKBest(score_func = f_regression, k = k_best)\n",
        "X_univariate = selector.fit_transform(X,y)\n",
        "print(X_univariate)\n",
        "selected_features = df.columns[:-1][selector.get_support()]\n",
        "print(\"\\n\\n\",df.columns[:-1])\n",
        "print(\"\\n\\n\",selector.get_support())\n",
        "\n",
        "print(\"\\n\\nSelected Features \\n\",selected_features)"
      ]
    },
    {
      "cell_type": "markdown",
      "id": "40145341",
      "metadata": {
        "id": "40145341"
      },
      "source": [
        "### L1 regularization (Lasso):\n",
        "Lasso regression algorithm can reduce the coefficients and remove those with lower values.\n",
        "\n",
        "**Statistics and Regression Analysis:**\n",
        "In statistics, especially in regression analysis, a coefficient is a number that represents the relationship between an independent variable and a dependent variable.\n",
        "\n",
        "For example, in a linear regression equation\n",
        "\n",
        "**( y = \\beta_0 + \\beta_1x )**\n",
        "\n",
        "**( \\beta_1 )** is the coefficient that quantifies the effect of the independent variable ( x ) on the dependent variable ( y ).\n",
        "\n",
        "The inclusion of the L1 term has a unique effect on the regression solution. It tends to produce sparse models, meaning that some of the coefficient estimates can be exactly zero. This is because the L1 penalty forces some coefficient estimates to shrink towards zero, effectively selecting a simpler model that uses fewer predictors. This property of Lasso regression makes it particularly useful for feature selection in models with a large number of predictors."
      ]
    },
    {
      "cell_type": "code",
      "execution_count": null,
      "id": "b95e0d79",
      "metadata": {
        "id": "b95e0d79",
        "outputId": "976ef89b-0f50-46b5-effc-3a799ba55145"
      },
      "outputs": [
        {
          "data": {
            "text/html": [
              "<div>\n",
              "<style scoped>\n",
              "    .dataframe tbody tr th:only-of-type {\n",
              "        vertical-align: middle;\n",
              "    }\n",
              "\n",
              "    .dataframe tbody tr th {\n",
              "        vertical-align: top;\n",
              "    }\n",
              "\n",
              "    .dataframe thead th {\n",
              "        text-align: right;\n",
              "    }\n",
              "</style>\n",
              "<table border=\"1\" class=\"dataframe\">\n",
              "  <thead>\n",
              "    <tr style=\"text-align: right;\">\n",
              "      <th></th>\n",
              "      <th>Feature_1</th>\n",
              "      <th>Feature_2</th>\n",
              "      <th>Feature_3</th>\n",
              "      <th>Feature_4</th>\n",
              "      <th>Feature_5</th>\n",
              "      <th>Feature_6</th>\n",
              "      <th>Feature_7</th>\n",
              "      <th>Feature_8</th>\n",
              "      <th>Feature_9</th>\n",
              "      <th>Feature_10</th>\n",
              "      <th>Target</th>\n",
              "    </tr>\n",
              "  </thead>\n",
              "  <tbody>\n",
              "    <tr>\n",
              "      <th>0</th>\n",
              "      <td>0.150394</td>\n",
              "      <td>0.950424</td>\n",
              "      <td>-0.759133</td>\n",
              "      <td>-2.123896</td>\n",
              "      <td>-0.576904</td>\n",
              "      <td>-0.599393</td>\n",
              "      <td>-0.525755</td>\n",
              "      <td>-0.839722</td>\n",
              "      <td>0.341756</td>\n",
              "      <td>1.876171</td>\n",
              "      <td>-60.486955</td>\n",
              "    </tr>\n",
              "    <tr>\n",
              "      <th>1</th>\n",
              "      <td>1.088951</td>\n",
              "      <td>-0.715304</td>\n",
              "      <td>-0.471932</td>\n",
              "      <td>0.686260</td>\n",
              "      <td>0.679598</td>\n",
              "      <td>-1.867265</td>\n",
              "      <td>-1.612716</td>\n",
              "      <td>2.314659</td>\n",
              "      <td>0.064280</td>\n",
              "      <td>-1.077745</td>\n",
              "      <td>-0.091994</td>\n",
              "    </tr>\n",
              "    <tr>\n",
              "      <th>2</th>\n",
              "      <td>-0.714351</td>\n",
              "      <td>-1.191303</td>\n",
              "      <td>0.293072</td>\n",
              "      <td>-0.680025</td>\n",
              "      <td>0.656554</td>\n",
              "      <td>0.346448</td>\n",
              "      <td>0.232254</td>\n",
              "      <td>0.250493</td>\n",
              "      <td>1.865775</td>\n",
              "      <td>0.473833</td>\n",
              "      <td>-76.947132</td>\n",
              "    </tr>\n",
              "    <tr>\n",
              "      <th>3</th>\n",
              "      <td>0.404051</td>\n",
              "      <td>0.257550</td>\n",
              "      <td>-0.161286</td>\n",
              "      <td>-0.342715</td>\n",
              "      <td>-0.074446</td>\n",
              "      <td>-0.420645</td>\n",
              "      <td>-0.802277</td>\n",
              "      <td>-1.415371</td>\n",
              "      <td>1.886186</td>\n",
              "      <td>0.174578</td>\n",
              "      <td>-38.245170</td>\n",
              "    </tr>\n",
              "    <tr>\n",
              "      <th>4</th>\n",
              "      <td>0.606010</td>\n",
              "      <td>-2.081929</td>\n",
              "      <td>-1.556629</td>\n",
              "      <td>-0.704344</td>\n",
              "      <td>1.696456</td>\n",
              "      <td>1.049009</td>\n",
              "      <td>-1.408461</td>\n",
              "      <td>-0.522723</td>\n",
              "      <td>-1.280429</td>\n",
              "      <td>1.754794</td>\n",
              "      <td>-1.831243</td>\n",
              "    </tr>\n",
              "  </tbody>\n",
              "</table>\n",
              "</div>"
            ],
            "text/plain": [
              "   Feature_1  Feature_2  Feature_3  Feature_4  Feature_5  Feature_6  \\\n",
              "0   0.150394   0.950424  -0.759133  -2.123896  -0.576904  -0.599393   \n",
              "1   1.088951  -0.715304  -0.471932   0.686260   0.679598  -1.867265   \n",
              "2  -0.714351  -1.191303   0.293072  -0.680025   0.656554   0.346448   \n",
              "3   0.404051   0.257550  -0.161286  -0.342715  -0.074446  -0.420645   \n",
              "4   0.606010  -2.081929  -1.556629  -0.704344   1.696456   1.049009   \n",
              "\n",
              "   Feature_7  Feature_8  Feature_9  Feature_10     Target  \n",
              "0  -0.525755  -0.839722   0.341756    1.876171 -60.486955  \n",
              "1  -1.612716   2.314659   0.064280   -1.077745  -0.091994  \n",
              "2   0.232254   0.250493   1.865775    0.473833 -76.947132  \n",
              "3  -0.802277  -1.415371   1.886186    0.174578 -38.245170  \n",
              "4  -1.408461  -0.522723  -1.280429    1.754794  -1.831243  "
            ]
          },
          "execution_count": 17,
          "metadata": {},
          "output_type": "execute_result"
        }
      ],
      "source": [
        "df.head()"
      ]
    },
    {
      "cell_type": "code",
      "execution_count": null,
      "id": "b939db3a",
      "metadata": {
        "id": "b939db3a",
        "outputId": "d6904e0d-72e2-4a25-d8b2-d4e589b3ddd8"
      },
      "outputs": [
        {
          "name": "stdout",
          "output_type": "stream",
          "text": [
            "[93.47376799 70.77628722  3.08651943 63.57576455 86.96518973 10.26537823\n",
            " 70.60448372 16.63432809  5.03492642 54.04520405]\n"
          ]
        }
      ],
      "source": [
        "k_best = 5\n",
        "lasso = Lasso(alpha = 0.1)\n",
        "lasso.fit(X,y)\n",
        "coefficients = np.abs(lasso.coef_)\n",
        "print(coefficients)\n",
        "\n",
        "selected_features_Lasso = df.columns[:-1][np.argsort(coefficients)[::-1]] [:k_best]"
      ]
    },
    {
      "cell_type": "code",
      "execution_count": null,
      "id": "22b803e8",
      "metadata": {
        "id": "22b803e8",
        "outputId": "c7b5c195-4b6d-4b6f-8624-40961daa7de0"
      },
      "outputs": [
        {
          "name": "stdout",
          "output_type": "stream",
          "text": [
            "Index(['Feature_1', 'Feature_2', 'Feature_3', 'Feature_4', 'Feature_5',\n",
            "       'Feature_6', 'Feature_7', 'Feature_8', 'Feature_9', 'Feature_10'],\n",
            "      dtype='object')\n",
            "[array([2, 8, 5, 7, 9, 3, 6, 1, 4, 0])]\n",
            "[array([0, 4, 1, 6, 3, 9, 7, 5, 8, 2])]\n"
          ]
        }
      ],
      "source": [
        "print(df.columns[:-1])\n",
        "print([np.argsort(coefficients)])\n",
        "print([np.argsort(coefficients)[::-1]])"
      ]
    },
    {
      "cell_type": "code",
      "execution_count": null,
      "id": "845adb74",
      "metadata": {
        "id": "845adb74",
        "outputId": "b4d0eacb-d256-4675-ff14-134066314665"
      },
      "outputs": [
        {
          "name": "stdout",
          "output_type": "stream",
          "text": [
            "Index(['Feature_1', 'Feature_5', 'Feature_2', 'Feature_7', 'Feature_4'], dtype='object')\n"
          ]
        }
      ],
      "source": [
        "print(selected_features_Lasso)"
      ]
    },
    {
      "cell_type": "code",
      "execution_count": null,
      "id": "8f74e891",
      "metadata": {
        "id": "8f74e891"
      },
      "outputs": [],
      "source": []
    },
    {
      "cell_type": "code",
      "execution_count": null,
      "id": "0ccdeb49",
      "metadata": {
        "id": "0ccdeb49"
      },
      "outputs": [],
      "source": []
    },
    {
      "cell_type": "code",
      "execution_count": null,
      "id": "dce59af2",
      "metadata": {
        "id": "dce59af2",
        "outputId": "193b8fc5-cc26-451b-d7ad-83c899b7d7ed"
      },
      "outputs": [
        {
          "name": "stdout",
          "output_type": "stream",
          "text": [
            "Accuracy with C=0.1: 1.0\n",
            "Accuracy with C=1: 1.0\n",
            "Accuracy with C=10: 0.9777777777777777\n",
            "Accuracy with C=100: 1.0\n"
          ]
        }
      ],
      "source": [
        "from sklearn import datasets\n",
        "from sklearn.model_selection import train_test_split\n",
        "from sklearn.svm import SVC\n",
        "from sklearn.metrics import accuracy_score\n",
        "\n",
        "# Load the iris dataset\n",
        "iris = datasets.load_iris()\n",
        "X = iris.data\n",
        "y = iris.target\n",
        "\n",
        "# Split the dataset into training and testing sets\n",
        "X_train, X_test, y_train, y_test = train_test_split(X, y, test_size=0.3, random_state=42)\n",
        "\n",
        "# Create SVM classifiers with different values of C\n",
        "C_values = [0.1, 1, 10, 100]  # Different values of C to try\n",
        "for C in C_values:\n",
        "    # Create an SVM classifier with the specified C value\n",
        "    svm_model = SVC(kernel='linear', C=C)\n",
        "\n",
        "    # Train the SVM classifier\n",
        "    svm_model.fit(X_train, y_train)\n",
        "\n",
        "    # Predict the labels for the test set\n",
        "    y_pred = svm_model.predict(X_test)\n",
        "\n",
        "    # Calculate and print the accuracy score\n",
        "    accuracy = accuracy_score(y_test, y_pred)\n",
        "    print(f\"Accuracy with C={C}: {accuracy}\")\n"
      ]
    },
    {
      "cell_type": "code",
      "execution_count": null,
      "id": "1db8518b",
      "metadata": {
        "id": "1db8518b"
      },
      "outputs": [],
      "source": []
    }
  ],
  "metadata": {
    "kernelspec": {
      "display_name": "Python 3 (ipykernel)",
      "language": "python",
      "name": "python3"
    },
    "language_info": {
      "codemirror_mode": {
        "name": "ipython",
        "version": 3
      },
      "file_extension": ".py",
      "mimetype": "text/x-python",
      "name": "python",
      "nbconvert_exporter": "python",
      "pygments_lexer": "ipython3",
      "version": "3.12.2"
    },
    "colab": {
      "provenance": []
    }
  },
  "nbformat": 4,
  "nbformat_minor": 5
}