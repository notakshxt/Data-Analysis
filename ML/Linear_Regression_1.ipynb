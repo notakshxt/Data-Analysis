{
  "cells": [
    {
      "cell_type": "markdown",
      "id": "f1088690",
      "metadata": {
        "id": "f1088690"
      },
      "source": [
        "### 1. Importing Libraries"
      ]
    },
    {
      "cell_type": "code",
      "execution_count": null,
      "id": "b1f53107",
      "metadata": {
        "id": "b1f53107"
      },
      "outputs": [],
      "source": [
        "import numpy as np\n",
        "import pandas as pd\n",
        "\n",
        "import matplotlib.pyplot as plt\n",
        "import seaborn as sns\n",
        "\n",
        "from sklearn.linear_model import LinearRegression\n",
        "from sklearn.model_selection import train_test_split, cross_val_score\n",
        "from sklearn import metrics"
      ]
    },
    {
      "cell_type": "markdown",
      "id": "057b20c8",
      "metadata": {
        "id": "057b20c8"
      },
      "source": [
        "### 2. Import the dataset"
      ]
    },
    {
      "cell_type": "code",
      "execution_count": null,
      "id": "8a8b4481",
      "metadata": {
        "id": "8a8b4481"
      },
      "outputs": [],
      "source": [
        "df = pd.read_csv('https://raw.githubusercontent.com/kindersham/100DaysDS/master/Housing%20Prices%20-%20Linear%20Regression/HousingPrices.csv')"
      ]
    },
    {
      "cell_type": "markdown",
      "id": "7a66f68d",
      "metadata": {
        "id": "7a66f68d"
      },
      "source": [
        "### 3. Understand the data"
      ]
    },
    {
      "cell_type": "code",
      "execution_count": null,
      "id": "e102536e",
      "metadata": {
        "id": "e102536e",
        "outputId": "fb6f7b98-75ea-44de-eafb-02a5a65bdfdb"
      },
      "outputs": [
        {
          "data": {
            "text/plain": [
              "(1460, 2)"
            ]
          },
          "execution_count": 3,
          "metadata": {},
          "output_type": "execute_result"
        }
      ],
      "source": [
        "df.shape"
      ]
    },
    {
      "cell_type": "markdown",
      "id": "474a187e",
      "metadata": {
        "id": "474a187e"
      },
      "source": [
        "The dataset contain 1,460 rows and 2 columns. Let’s take a look at what our dataset actually looks like. enter the df.head()which will retrieves the first 5 records from our dataset."
      ]
    },
    {
      "cell_type": "code",
      "execution_count": null,
      "id": "60e836ca",
      "metadata": {
        "id": "60e836ca",
        "outputId": "97ac88d6-683d-42da-8207-231a81664d94"
      },
      "outputs": [
        {
          "data": {
            "text/html": [
              "<div>\n",
              "<style scoped>\n",
              "    .dataframe tbody tr th:only-of-type {\n",
              "        vertical-align: middle;\n",
              "    }\n",
              "\n",
              "    .dataframe tbody tr th {\n",
              "        vertical-align: top;\n",
              "    }\n",
              "\n",
              "    .dataframe thead th {\n",
              "        text-align: right;\n",
              "    }\n",
              "</style>\n",
              "<table border=\"1\" class=\"dataframe\">\n",
              "  <thead>\n",
              "    <tr style=\"text-align: right;\">\n",
              "      <th></th>\n",
              "      <th>SquareFeet</th>\n",
              "      <th>SalePrice</th>\n",
              "    </tr>\n",
              "  </thead>\n",
              "  <tbody>\n",
              "    <tr>\n",
              "      <th>0</th>\n",
              "      <td>1710</td>\n",
              "      <td>208500</td>\n",
              "    </tr>\n",
              "    <tr>\n",
              "      <th>1</th>\n",
              "      <td>1262</td>\n",
              "      <td>181500</td>\n",
              "    </tr>\n",
              "    <tr>\n",
              "      <th>2</th>\n",
              "      <td>1786</td>\n",
              "      <td>223500</td>\n",
              "    </tr>\n",
              "    <tr>\n",
              "      <th>3</th>\n",
              "      <td>1717</td>\n",
              "      <td>140000</td>\n",
              "    </tr>\n",
              "    <tr>\n",
              "      <th>4</th>\n",
              "      <td>2198</td>\n",
              "      <td>250000</td>\n",
              "    </tr>\n",
              "  </tbody>\n",
              "</table>\n",
              "</div>"
            ],
            "text/plain": [
              "   SquareFeet  SalePrice\n",
              "0        1710     208500\n",
              "1        1262     181500\n",
              "2        1786     223500\n",
              "3        1717     140000\n",
              "4        2198     250000"
            ]
          },
          "execution_count": 30,
          "metadata": {},
          "output_type": "execute_result"
        }
      ],
      "source": [
        "df.head()"
      ]
    },
    {
      "cell_type": "code",
      "execution_count": null,
      "id": "5915798d",
      "metadata": {
        "id": "5915798d",
        "outputId": "f673fb51-ec50-4b20-fe40-5fc28b92a24a"
      },
      "outputs": [
        {
          "data": {
            "text/html": [
              "<div>\n",
              "<style scoped>\n",
              "    .dataframe tbody tr th:only-of-type {\n",
              "        vertical-align: middle;\n",
              "    }\n",
              "\n",
              "    .dataframe tbody tr th {\n",
              "        vertical-align: top;\n",
              "    }\n",
              "\n",
              "    .dataframe thead th {\n",
              "        text-align: right;\n",
              "    }\n",
              "</style>\n",
              "<table border=\"1\" class=\"dataframe\">\n",
              "  <thead>\n",
              "    <tr style=\"text-align: right;\">\n",
              "      <th></th>\n",
              "      <th>SquareFeet</th>\n",
              "      <th>SalePrice</th>\n",
              "    </tr>\n",
              "  </thead>\n",
              "  <tbody>\n",
              "    <tr>\n",
              "      <th>count</th>\n",
              "      <td>1460.000000</td>\n",
              "      <td>1460.000000</td>\n",
              "    </tr>\n",
              "    <tr>\n",
              "      <th>mean</th>\n",
              "      <td>1515.463699</td>\n",
              "      <td>180921.195890</td>\n",
              "    </tr>\n",
              "    <tr>\n",
              "      <th>std</th>\n",
              "      <td>525.480383</td>\n",
              "      <td>79442.502883</td>\n",
              "    </tr>\n",
              "    <tr>\n",
              "      <th>min</th>\n",
              "      <td>334.000000</td>\n",
              "      <td>34900.000000</td>\n",
              "    </tr>\n",
              "    <tr>\n",
              "      <th>25%</th>\n",
              "      <td>1129.500000</td>\n",
              "      <td>129975.000000</td>\n",
              "    </tr>\n",
              "    <tr>\n",
              "      <th>50%</th>\n",
              "      <td>1464.000000</td>\n",
              "      <td>163000.000000</td>\n",
              "    </tr>\n",
              "    <tr>\n",
              "      <th>75%</th>\n",
              "      <td>1776.750000</td>\n",
              "      <td>214000.000000</td>\n",
              "    </tr>\n",
              "    <tr>\n",
              "      <th>max</th>\n",
              "      <td>5642.000000</td>\n",
              "      <td>755000.000000</td>\n",
              "    </tr>\n",
              "  </tbody>\n",
              "</table>\n",
              "</div>"
            ],
            "text/plain": [
              "        SquareFeet      SalePrice\n",
              "count  1460.000000    1460.000000\n",
              "mean   1515.463699  180921.195890\n",
              "std     525.480383   79442.502883\n",
              "min     334.000000   34900.000000\n",
              "25%    1129.500000  129975.000000\n",
              "50%    1464.000000  163000.000000\n",
              "75%    1776.750000  214000.000000\n",
              "max    5642.000000  755000.000000"
            ]
          },
          "execution_count": 31,
          "metadata": {},
          "output_type": "execute_result"
        }
      ],
      "source": [
        "df.describe()"
      ]
    },
    {
      "cell_type": "markdown",
      "id": "9337ca07",
      "metadata": {
        "id": "9337ca07"
      },
      "source": [
        "draw data points on the two-dimensional graph to focus on the dataset and see if we can manually find any relationship between the data."
      ]
    },
    {
      "cell_type": "code",
      "execution_count": null,
      "id": "15abc1be",
      "metadata": {
        "id": "15abc1be",
        "outputId": "7b04233a-adec-4e75-83a7-1dfc180f9a37"
      },
      "outputs": [
        {
          "data": {
            "image/png": "[encoded data removed]",
            "text/plain": [
              "<Figure size 432x288 with 1 Axes>"
            ]
          },
          "metadata": {
            "needs_background": "light"
          },
          "output_type": "display_data"
        }
      ],
      "source": [
        "df.plot(x='SquareFeet', y='SalePrice', style='*')\n",
        "plt.title('Square Feet vs Sale Price')\n",
        "plt.xlabel('Square Feet')\n",
        "plt.ylabel('Sale Price')\n",
        "plt.show()"
      ]
    },
    {
      "cell_type": "markdown",
      "id": "f823c04c",
      "metadata": {
        "id": "f823c04c"
      },
      "source": [
        "From the graph above, we can clearly see that there is a positive linear relation between the house square feet and the house sales price."
      ]
    },
    {
      "cell_type": "markdown",
      "id": "a7e6b63d",
      "metadata": {
        "id": "a7e6b63d"
      },
      "source": [
        "### 4. Preparing the Data\n",
        "\n",
        "Divide the data into “attributes” and “target labels”. Attributes are independent variables, and target labels are dependent variables whose values ​​are to be predicted. In our dataset we only have two columns. We want to predict the Sales Price based upon the Square Feet of the house. Therefore our attribute set will consist of the “SquareFeet” column, and the label will be the “SalesPrice” column."
      ]
    },
    {
      "cell_type": "code",
      "execution_count": null,
      "id": "254f76aa",
      "metadata": {
        "id": "254f76aa"
      },
      "outputs": [],
      "source": [
        "X = df.iloc[:, :-1].values # Square feet\n",
        "y = df.iloc[:, 1].values   # Sale Price"
      ]
    },
    {
      "cell_type": "markdown",
      "id": "3e321039",
      "metadata": {
        "id": "3e321039"
      },
      "source": [
        "The attributes are stored in the X variable. We specified “-1” as the range for columns since we wanted our attribute set to contain all the columns except the last one, which is “SalesPrice”. Similarly the y variable contains the labels. We specified 1 for the label column since the index for “SalesPrice” column is 1.\n",
        "\n"
      ]
    },
    {
      "cell_type": "markdown",
      "id": "6926f5dc",
      "metadata": {
        "id": "6926f5dc"
      },
      "source": [
        "\n",
        "Now that we have our attributes and labels, the next step is to split this data into training and test sets. We’ll do this by using Scikit-Learn built-in train_test_split() method:"
      ]
    },
    {
      "cell_type": "code",
      "execution_count": null,
      "id": "de409b76",
      "metadata": {
        "id": "de409b76"
      },
      "outputs": [],
      "source": [
        "X_train, X_test, y_train, y_test = train_test_split(X, y, test_size=0.2, random_state=0)"
      ]
    },
    {
      "cell_type": "markdown",
      "id": "4b15c31b",
      "metadata": {
        "id": "4b15c31b"
      },
      "source": [
        "The above script splits 80% of the data to training set while 20% of the data to test set. The test_size variable is where we actually specify the proportion of test set."
      ]
    },
    {
      "cell_type": "markdown",
      "id": "58d4c2f1",
      "metadata": {
        "id": "58d4c2f1"
      },
      "source": [
        "### 5. Modelling\n",
        "\n"
      ]
    },
    {
      "cell_type": "code",
      "execution_count": null,
      "id": "28147f76",
      "metadata": {
        "id": "28147f76"
      },
      "outputs": [],
      "source": [
        "def get_cv_scores(model):\n",
        "    scores = cross_val_score(model,\n",
        "                             X_train,\n",
        "                             y_train,\n",
        "                             cv=10,\n",
        "                             scoring='r2')\n",
        "\n",
        "    print('CV Mean: ', np.mean(scores))\n",
        "    print('STD: ', np.std(scores))\n",
        "    print('\\n')"
      ]
    },
    {
      "cell_type": "code",
      "execution_count": null,
      "id": "97d91c77",
      "metadata": {
        "id": "97d91c77",
        "outputId": "01c61efa-55ae-4bc4-cde0-9ba690c59f39"
      },
      "outputs": [
        {
          "name": "stdout",
          "output_type": "stream",
          "text": [
            "CV Mean:  0.5147052949885541\n",
            "STD:  0.06563558755274343\n",
            "\n",
            "\n"
          ]
        }
      ],
      "source": [
        "import sklearn\n",
        "from sklearn import linear_model\n",
        "lr = LinearRegression().fit(X_train, y_train)\n",
        "get_cv_scores(lr)"
      ]
    },
    {
      "cell_type": "code",
      "execution_count": null,
      "id": "7a947e47",
      "metadata": {
        "id": "7a947e47",
        "outputId": "575f5e4e-6da8-4378-fc23-552fbb26909a"
      },
      "outputs": [
        {
          "name": "stdout",
          "output_type": "stream",
          "text": [
            "Accuracy: 43\n"
          ]
        }
      ],
      "source": [
        "accuracy = lr.score(X_test, y_test)\n",
        "print(\"Accuracy:\",(int(round(accuracy*100))))"
      ]
    },
    {
      "cell_type": "markdown",
      "id": "baf2f199",
      "metadata": {
        "id": "baf2f199"
      },
      "source": [
        "With Scikit-Learn it is extremely straight forward to implement linear regression models, as all you really need to do is import the LinearRegression class, instantiate it, and call the fit() method along with our training data. This is about as simple as it gets when using a machine learning library to train on your data."
      ]
    },
    {
      "cell_type": "code",
      "execution_count": null,
      "id": "a4162610",
      "metadata": {
        "id": "a4162610",
        "outputId": "b34e777a-b06c-43f7-c5c1-b81e55897af9"
      },
      "outputs": [
        {
          "name": "stdout",
          "output_type": "stream",
          "text": [
            "13330.293444921146\n",
            "[110.26434426]\n"
          ]
        }
      ],
      "source": [
        "print(lr.intercept_)\n",
        "print(lr.coef_)"
      ]
    },
    {
      "cell_type": "markdown",
      "id": "1ca85113",
      "metadata": {
        "id": "1ca85113"
      },
      "source": [
        "This means that for every one unit of change in Square Feet, the change in the SalesPrice is about 110.26."
      ]
    },
    {
      "cell_type": "markdown",
      "id": "be11c1fb",
      "metadata": {
        "id": "be11c1fb"
      },
      "source": [
        "### 6. Predictions\n",
        "\n",
        "Now that we have trained our algorithm, it’s time to make some predictions. To do so, we will use our test data and see how accurately our algorithm predicts the percentage score."
      ]
    },
    {
      "cell_type": "code",
      "execution_count": null,
      "id": "be576941",
      "metadata": {
        "id": "be576941"
      },
      "outputs": [],
      "source": [
        "y_pred = lr.predict(X_test)"
      ]
    },
    {
      "cell_type": "code",
      "execution_count": null,
      "id": "ce20fe9b",
      "metadata": {
        "id": "ce20fe9b",
        "outputId": "fc35f7bd-6f0a-4e41-ebab-4156fa4ed5ca"
      },
      "outputs": [
        {
          "data": {
            "image/png": "[encoded data removed]",
            "text/plain": [
              "<Figure size 432x288 with 1 Axes>"
            ]
          },
          "metadata": {
            "needs_background": "light"
          },
          "output_type": "display_data"
        }
      ],
      "source": [
        "plt.scatter(X_train, y_train)\n",
        "plt.plot(X_test, y_pred, color='red')\n",
        "plt.show()"
      ]
    },
    {
      "cell_type": "markdown",
      "id": "79b8e40c",
      "metadata": {
        "id": "79b8e40c"
      },
      "source": [
        "The y_pred is a numpy array that contains all the predicted values for the input values in the X_test series.\n",
        "To compare the actual output values for X_test with the predicted values"
      ]
    },
    {
      "cell_type": "code",
      "execution_count": null,
      "id": "4af1e0fc",
      "metadata": {
        "id": "4af1e0fc",
        "outputId": "9d5a69a3-086a-4481-e976-a9b848d061b9"
      },
      "outputs": [
        {
          "data": {
            "text/html": [
              "<div>\n",
              "<style scoped>\n",
              "    .dataframe tbody tr th:only-of-type {\n",
              "        vertical-align: middle;\n",
              "    }\n",
              "\n",
              "    .dataframe tbody tr th {\n",
              "        vertical-align: top;\n",
              "    }\n",
              "\n",
              "    .dataframe thead th {\n",
              "        text-align: right;\n",
              "    }\n",
              "</style>\n",
              "<table border=\"1\" class=\"dataframe\">\n",
              "  <thead>\n",
              "    <tr style=\"text-align: right;\">\n",
              "      <th></th>\n",
              "      <th>Actual</th>\n",
              "      <th>Predicted</th>\n",
              "    </tr>\n",
              "  </thead>\n",
              "  <tbody>\n",
              "    <tr>\n",
              "      <th>0</th>\n",
              "      <td>200624</td>\n",
              "      <td>290645.119259</td>\n",
              "    </tr>\n",
              "    <tr>\n",
              "      <th>1</th>\n",
              "      <td>133000</td>\n",
              "      <td>187327.428687</td>\n",
              "    </tr>\n",
              "    <tr>\n",
              "      <th>2</th>\n",
              "      <td>110000</td>\n",
              "      <td>145978.299590</td>\n",
              "    </tr>\n",
              "    <tr>\n",
              "      <th>3</th>\n",
              "      <td>192000</td>\n",
              "      <td>236284.797539</td>\n",
              "    </tr>\n",
              "    <tr>\n",
              "      <th>4</th>\n",
              "      <td>88000</td>\n",
              "      <td>133738.957377</td>\n",
              "    </tr>\n",
              "  </tbody>\n",
              "</table>\n",
              "</div>"
            ],
            "text/plain": [
              "   Actual      Predicted\n",
              "0  200624  290645.119259\n",
              "1  133000  187327.428687\n",
              "2  110000  145978.299590\n",
              "3  192000  236284.797539\n",
              "4   88000  133738.957377"
            ]
          },
          "execution_count": 60,
          "metadata": {},
          "output_type": "execute_result"
        }
      ],
      "source": [
        "df = pd.DataFrame({'Actual': y_test, 'Predicted': y_pred})\n",
        "df.head()"
      ]
    },
    {
      "cell_type": "markdown",
      "id": "ef615b91",
      "metadata": {
        "id": "ef615b91"
      },
      "source": [
        "Although our model is not very accurate, the predicted value is close to the actual value."
      ]
    },
    {
      "cell_type": "markdown",
      "id": "5d0deb79",
      "metadata": {
        "id": "5d0deb79"
      },
      "source": [
        "### 7. Evaluation\n",
        "\n",
        "The final step is to evaluate the performance of the algorithm. This step is particularly important for comparing the performance of different algorithms on specific data sets. For regression algorithms, three evaluation indicators are usually used:\n",
        "Mean Absolute Error (MAE) is the mean of the absolute value of the errors.\n",
        "Mean Squared Error (MSE) is the mean of the squared errors.\n",
        "Root Mean Squared Error (RMSE) is the square root of the mean of the squared errors"
      ]
    },
    {
      "cell_type": "markdown",
      "id": "9b717c21",
      "metadata": {
        "id": "9b717c21"
      },
      "source": [
        "\n",
        "The final step is to evaluate the performance of algorithm. This step is particularly important to compare how well different algorithms perform on a particular dataset. For regression algorithms, three evaluation metrics are commonly used:\n",
        "\n",
        "Mean Squared Error (MSE) The most common metric for regression tasks is MSE. It has a convex shape. It is the average of the squared difference between the predicted and actual value. Since it is differentiable and has a convex shape, it is easier to optimize.\n",
        "\n",
        "Mean Absolute Error (MAE) This is simply the average of the absolute difference between the target value and the value predicted by the model. Not preferred in cases where outliers are prominent.\n",
        "\n",
        "R-squared or Coefficient of Determination This metric represents the part of the variance of the dependent variable explained by the independent variables of the model. It measures the strength of the relationship between your model and the dependent variable.\n",
        "\n",
        "The Scikit-Learn library comes with pre-built functions that can be used to find out these values."
      ]
    },
    {
      "cell_type": "code",
      "execution_count": null,
      "id": "c63c4834",
      "metadata": {
        "id": "c63c4834",
        "outputId": "c55d9f1b-f38b-43a8-f0a5-f8165b14ba1a"
      },
      "outputs": [
        {
          "data": {
            "text/plain": [
              "0.4337555468432769"
            ]
          },
          "execution_count": 71,
          "metadata": {},
          "output_type": "execute_result"
        }
      ],
      "source": [
        "import statistics\n",
        "SSE = sum((y_pred -  y_test)**2)\n",
        "SST = sum((statistics.mean(y_pred)-y_test)**2)\n",
        "R2=1-SSE/SST\n",
        "R2"
      ]
    },
    {
      "cell_type": "code",
      "execution_count": null,
      "id": "cbdeb7fa",
      "metadata": {
        "id": "cbdeb7fa",
        "outputId": "f0638efc-c827-431c-da87-8ae6689e5b90"
      },
      "outputs": [
        {
          "name": "stdout",
          "output_type": "stream",
          "text": [
            "Mean Absolute Error: 39364.76724953735\n",
            "Mean Squared Error: 3913788296.4027987\n",
            "Root Mean Squared Error: 62560.277304394986\n"
          ]
        }
      ],
      "source": [
        "print('Mean Absolute Error:', metrics.mean_absolute_error(y_test, y_pred))\n",
        "print('Mean Squared Error:', metrics.mean_squared_error(y_test, y_pred))\n",
        "print('Root Mean Squared Error:', np.sqrt(metrics.mean_squared_error(y_test, y_pred)))"
      ]
    },
    {
      "cell_type": "markdown",
      "id": "ef3ef5f4",
      "metadata": {
        "id": "ef3ef5f4"
      },
      "source": [
        "You can see that the value of root mean squared error is 62560.28, which is large than 10% of the mean value of the Sales Price i.e. 180921.2. This means that our algorithm is just average.\n",
        "There are many factors that contribute to this inaccuracy, some of which are listed here:\n",
        "The features we used may not have had a high enough correlation to the values we were trying to predict.\n",
        "We assume that this data has a linear relationship, but this is not the case. visual data can help you determine."
      ]
    },
    {
      "cell_type": "markdown",
      "id": "48b5464c",
      "metadata": {
        "id": "48b5464c"
      },
      "source": [
        "https://medium.com/analytics-vidhya/linear-regression-in-python-with-scikit-learn-e1bb8a059cd2"
      ]
    },
    {
      "cell_type": "code",
      "execution_count": null,
      "id": "461e5026",
      "metadata": {
        "id": "461e5026"
      },
      "outputs": [],
      "source": []
    },
    {
      "cell_type": "code",
      "execution_count": null,
      "id": "afb6c256",
      "metadata": {
        "id": "afb6c256"
      },
      "outputs": [],
      "source": []
    }
  ],
  "metadata": {
    "kernelspec": {
      "display_name": "Python 3",
      "language": "python",
      "name": "python3"
    },
    "language_info": {
      "codemirror_mode": {
        "name": "ipython",
        "version": 3
      },
      "file_extension": ".py",
      "mimetype": "text/x-python",
      "name": "python",
      "nbconvert_exporter": "python",
      "pygments_lexer": "ipython3",
      "version": "3.7.10"
    },
    "colab": {
      "provenance": []
    }
  },
  "nbformat": 4,
  "nbformat_minor": 5
}